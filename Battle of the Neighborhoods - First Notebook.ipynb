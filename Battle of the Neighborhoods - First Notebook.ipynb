{
    "cells": [
        {
            "cell_type": "markdown",
            "metadata": {
                "collapsed": true
            },
            "source": "## The Battle of the Neighborhoods - Safest Neighborhoods in Atlanta\n<hr>"
        },
        {
            "cell_type": "markdown",
            "metadata": {},
            "source": "### Table of Content\n1. <a href=\"#item-1\">Introduction/Business Problem</a> <br>\n2. <a href=\"#item-2\">Data Section</a> <br>"
        },
        {
            "cell_type": "markdown",
            "metadata": {},
            "source": "<h3 id=\"item-1\">1. Introduction/Business Problem</h3>"
        },
        {
            "cell_type": "markdown",
            "metadata": {},
            "source": "#### Background:\n<p>Atlanta is the capital and most populous city of Georgia in the United States of America with its population estimated at 517,172 which represent the population of the city alone. However, the Urban and Atlanta metropolitan area populations are represented as 5.7million and 5.6 million respectively.</p>\n<p>It encompasses 134.0 square miles (347.1 km2), of which 133.2 square miles (344.9 km2) is land and 0.85 square miles (2.2 km2) is water. It has a population density of 630 people per square mile or 243 per square kilometer. Atlanta is notable for playing an important part in both the Civil War and the 1960s Civil Rights Movement. </p>"
        },
        {
            "cell_type": "markdown",
            "metadata": {},
            "source": "#### Problem Description:\nThis project aims at analysing the crime rates data set of the Atlanta Police Department with a view to ascertaining the neighbourhoods with the lowest crime rates from 2018 to 2020 in Atlanta, Georgia. "
        },
        {
            "cell_type": "markdown",
            "metadata": {},
            "source": "#### Target Audience:"
        },
        {
            "cell_type": "markdown",
            "metadata": {},
            "source": "This report would be useful in providing insights relating to level of crime rates of neighborhoods in Atlanta to the following group of people: <br>\n1. People who are looking to relocate to Atlanta. <br>\n2. Residents of Atlanta. <br>\n3. Atlanta Police Department. <br>\n3. Potential and current Business Investors, Entrepreneurs, Restauranteurs, other Business Owners.\n"
        },
        {
            "cell_type": "markdown",
            "metadata": {},
            "source": "<h3 id=\"item-2\">2. Data Section</h3>"
        },
        {
            "cell_type": "markdown",
            "metadata": {},
            "source": "The following data sources will be used to extract/generate the required information: <br>\n- Atlanta Police Department  Crime Reports  from 2018 \u2013 2020 obtained from Atlanta Police Department\u2019s website via https://www.atlantapd.org/i-want-to/crime-data-downloads<br>\n- Foursquare API via  https://developer.foursquare.com/\n"
        },
        {
            "cell_type": "markdown",
            "metadata": {},
            "source": "<br>"
        },
        {
            "cell_type": "markdown",
            "metadata": {},
            "source": "<hr><h3 id=\"item=ref\">References: </h3>"
        },
        {
            "cell_type": "markdown",
            "metadata": {},
            "source": "1. Population Stats \u2013 World Statistical Data  https://populationstat.com/united-states/atlanta\n2. World Population Review https://worldpopulationreview.com/us-cities/atlanta-population/\n3. Atlanta Police Department\u2019s website via https://www.atlantapd.org/"
        }
    ],
    "metadata": {
        "kernelspec": {
            "display_name": "Python 3.6",
            "language": "python",
            "name": "python3"
        },
        "language_info": {
            "codemirror_mode": {
                "name": "ipython",
                "version": 3
            },
            "file_extension": ".py",
            "mimetype": "text/x-python",
            "name": "python",
            "nbconvert_exporter": "python",
            "pygments_lexer": "ipython3",
            "version": "3.6.9"
        }
    },
    "nbformat": 4,
    "nbformat_minor": 1
}